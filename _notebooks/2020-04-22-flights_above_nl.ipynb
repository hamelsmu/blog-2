{
 "cells": [
  {
   "cell_type": "markdown",
   "metadata": {},
   "source": [
    "# Exploring flight patterns above The Netherlands\n",
    "> Visualizations of 3.5 million datapoints\n",
    "\n",
    "- toc: false\n",
    "- branch: master\n",
    "- badges: true\n",
    "- comments: true\n",
    "- author: Jesse van Elteren\n",
    "- image: images/flightheader.png\n",
    "- categories: []"
   ]
  },
  {
   "cell_type": "markdown",
   "metadata": {},
   "source": [
    "Some years ago I woke up early because of a loud aircraft flying over. Couldn’t get back to sleep and decided to use these precious early hours to visualize the air traffic around Hilversum. \n",
    "\n",
    "Every aircraft is equipped with a device called a [transponder](https://en.wikipedia.org/wiki/Transponder) that transmits flight data about the flight into the air. Organizations like [OpenSky](https://opensky-network.org/) aggregate these data and make them available. Below a screenshot of the result, you can see the tracks and some information about the flight is displayed."
   ]
  },
  {
   "cell_type": "markdown",
   "metadata": {},
   "source": [
    "![](flight/example.png)"
   ]
  },
  {
   "cell_type": "markdown",
   "metadata": {},
   "source": [
    "But when revisiting this initial project, I felt there were more opportunities. I obtained air traffic above the Netherlands from February to April (monday's only), resulting in 11 full days of traffic. Below a first visualisation. \n",
    "\n",
    "With the buttons on the right you cen zoom in. If you see a bright white line over your hometown, there is probably a lot of air traffic flying over."
   ]
  },
  {
   "cell_type": "code",
   "execution_count": null,
   "metadata": {},
   "outputs": [],
   "source": [
    "# hide\n",
    "import datashader as ds\n",
    "import pandas as pd\n",
    "from colorcet import fire\n",
    "from datashader import transfer_functions as tf\n",
    "import pickle\n",
    "import altair as alt\n",
    "import time\n",
    "import numpy as np\n",
    "from pathlib import Path\n",
    "Path.cont = lambda x: list(os.scandir(x))\n",
    "from matplotlib import cm\n",
    "import colorcet as cc\n",
    "from IPython.display import IFrame # this displays output in the notebook\n",
    "import holoviews as hv\n",
    "from holoviews.element.tiles import StamenLabels\n",
    "from holoviews.operation.datashader import datashade\n",
    "hv.extension('bokeh')"
   ]
  },
  {
   "cell_type": "code",
   "execution_count": null,
   "metadata": {},
   "outputs": [],
   "source": [
    "# hide\n",
    "p = Path(r'C:\\Users\\Jesse\\Documents\\GitHub\\projects\\flight_data_plotter\\opensky_scrape\\flights_preprocessed_full.db')\n",
    "f = open(p,\"rb\")\n",
    "df_full = pickle.load(f)\n",
    "\n",
    "p = Path(r'C:\\Users\\Jesse\\Documents\\GitHub\\projects\\flight_data_plotter\\opensky_scrape\\flights_preprocessed_NL.db')\n",
    "f = open(p,\"rb\")\n",
    "df = pickle.load(f)\n",
    "\n",
    "x_range = (min(df['easting']),max(df['easting']))\n",
    "y_range = (min(df['northing']),max(df['northing']))\n",
    "height_to_width = (x_range[1]-x_range[0]) / (y_range[1]-y_range[0])"
   ]
  },
  {
   "cell_type": "code",
   "execution_count": null,
   "metadata": {},
   "outputs": [],
   "source": [
    "# hide\n",
    "def plot(data, height, to_viz, colormap = fire, background = 'black',name=None, how='eq_hist', color_key=[]):\n",
    "    agg = ds.Canvas(plot_width=int(height_to_width*height), plot_height=height, x_range = x_range, y_range = y_range).line(data, 'easting', 'northing',to_viz)\n",
    "    return tf.set_background(tf.shade(agg, cmap=colormap, color_key=color_key, name=name, how=how),background)\n",
    "\n",
    "def plot_perc(data, height, to_viz, colormap = fire, background = 'black',name=None, how='eq_hist', color_key=[], perc=99):\n",
    "    agg = ds.Canvas(plot_width=int(height_to_width*height), plot_height=height, x_range = x_range, y_range = y_range).line(data, 'easting', 'northing',to_viz)\n",
    "    return tf.set_background(tf.shade(agg.where(agg>=np.percentile(agg,perc)), cmap=colormap, color_key=color_key, name=name, how=how),background)\n"
   ]
  },
  {
   "cell_type": "code",
   "execution_count": null,
   "metadata": {},
   "outputs": [],
   "source": [
    "# hide\n",
    "heli      = ('heli',['DHAIK','OOHEY','HNL24A','HNL25A', 'HNL25C','HNL43A','HNL07A','HNL07B','HNL11A','BBX01A','HNL05A','HNL05B','HNL63A','HNL63B','HNL06A','HNL'])\n",
    "trauma    = ('trauma',['LIFELN1','LIFELN2', 'LIFELN3', 'LIFELN4','CHX3'])\n",
    "luchtfoto = ('luchtfoto',['PHKIO', 'OOVST', 'PHPNX','PHMAS','OOVSB', 'OOV','BIO04'])\n",
    "kustwacht = ('kustwacht',['NCG01','NCG03','NCG'])\n",
    "politie   = ('politie',['ZXP26', 'ZXP24','HUMMEL2','HUMMEL3','HUMMELX','HUM','ZXP'])\n",
    "studie    = ('studie',['PHLAB','KLM7914','PHMDL'])\n",
    "military  = ('military',['NATO01','NATO07', 'NATO'])\n",
    "vanalles  = ('vanalles',['PHTGM','PHHCF','PHSRP'])\n",
    "klm       = ('klm',['KLM'])\n",
    "cargo     = ('cargo',['UPS','ABR','FDX','CAL','MPL','SIA','TAY', 'GEC','BCS'])\n",
    "airlines  = ('airlines',['RYR','SAS','EWG','UAE','SVA', 'FIN', 'QTR', 'AFL', 'DLH','BAW','EZY','BEL','TRA','WZZ', 'AFR', 'EJU','IBK','THY','EIN', 'CFE','LOT','EXS','UAL','AUA'])\n",
    "interest  = [heli, trauma, luchtfoto, kustwacht, politie, military]\n",
    "def pat(list_of_interest):\n",
    "    return '|'.join([f'(?i){poi}' for poi in list_of_interest])\n",
    "\n",
    "interest_dict = {poi[:3]: cat_name for cat_name,cat_cont in interest for poi in cat_cont}\n",
    "def to_interest(x):\n",
    "    try:\n",
    "        return interest_dict[x[:3]]\n",
    "    except:\n",
    "        return None\n",
    "\n",
    "df_full['callsign3'] = df_full['callsign'].apply(lambda x: str(x)[:3])\n",
    "df_full['interest'] = df_full['callsign'].apply(to_interest).astype('category')\n",
    "df_full['interest'].value_counts(dropna=False)"
   ]
  },
  {
   "cell_type": "code",
   "execution_count": null,
   "metadata": {},
   "outputs": [],
   "source": [
    "# hide\n",
    "hv.extension('bokeh')\n",
    "\n",
    "height=390\n",
    "data = df_full.loc[df_full['baroaltitude']<7000]\n",
    "# plot(data, 800, ds.count())\n",
    "map_tiles  = StamenLabels().opts(alpha=0.4).opts(xlim=x_range, ylim=y_range,bgcolor='black')\n",
    "# map_tiles =hv.Tiles('https://maps.wikimedia.org/osm-intl/{Z}/{X}/{Y}@2x.png', name=\"Wikipedia\").opts(alpha=0.4).opts(xlim=x_range, ylim=y_range)\n",
    "points     = hv.Curve(data, ['easting', 'northing'])\n",
    "flights = datashade(points,cmap=fire,height=height,alpha=100)\n",
    "%opts Overlay [width=int(height_to_width*height) height= height  xaxis=None yaxis=None] \n",
    "# toolbar=None \n",
    "\n",
    "map_tiles * flights\n",
    "#  StamenLabels StamenToner"
   ]
  },
  {
   "cell_type": "markdown",
   "metadata": {},
   "source": [
    "{% include flight.html %}"
   ]
  },
  {
   "cell_type": "code",
   "execution_count": null,
   "metadata": {},
   "outputs": [],
   "source": [
    "b"
   ]
  },
  {
   "cell_type": "code",
   "execution_count": null,
   "metadata": {},
   "outputs": [],
   "source": [
    "b"
   ]
  },
  {
   "cell_type": "code",
   "execution_count": null,
   "metadata": {},
   "outputs": [],
   "source": [
    "b"
   ]
  },
  {
   "cell_type": "code",
   "execution_count": null,
   "metadata": {},
   "outputs": [],
   "source": [
    "b"
   ]
  },
  {
   "cell_type": "code",
   "execution_count": null,
   "metadata": {},
   "outputs": [],
   "source": [
    "b"
   ]
  },
  {
   "cell_type": "code",
   "execution_count": null,
   "metadata": {},
   "outputs": [],
   "source": [
    "b"
   ]
  },
  {
   "cell_type": "code",
   "execution_count": null,
   "metadata": {},
   "outputs": [],
   "source": [
    "b"
   ]
  },
  {
   "cell_type": "code",
   "execution_count": null,
   "metadata": {},
   "outputs": [],
   "source": [
    "b"
   ]
  }
 ],
 "metadata": {
  "language_info": {
   "codemirror_mode": {
    "name": "ipython",
    "version": 3
   },
   "file_extension": ".py",
   "mimetype": "text/x-python",
   "name": "python",
   "nbconvert_exporter": "python",
   "pygments_lexer": "ipython3",
   "version": "3.7.3-final"
  },
  "orig_nbformat": 2,
  "kernelspec": {
   "name": "python37364bitbaseconda64cd2d4475b7431fad90d3a78fe97c82",
   "display_name": "Python 3.7.3 64-bit ('base': conda)"
  }
 },
 "nbformat": 4,
 "nbformat_minor": 2
}