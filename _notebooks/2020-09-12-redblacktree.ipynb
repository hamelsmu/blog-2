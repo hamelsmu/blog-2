{
  "nbformat": 4,
  "nbformat_minor": 0,
  "metadata": {
    "language_info": {
      "codemirror_mode": {
        "name": "ipython",
        "version": 3
      },
      "file_extension": ".py",
      "mimetype": "text/x-python",
      "name": "python",
      "nbconvert_exporter": "python",
      "pygments_lexer": "ipython3",
      "version": "3.7.3-final"
    },
    "orig_nbformat": 2,
    "kernelspec": {
      "name": "python37364bitprogramdatavirtualenv99403c2e8abd4ba0909557516bfee9d9",
      "display_name": "Python 3.7.3 64-bit ('ProgramData': virtualenv)"
    },
    "colab": {
      "name": "redblacktree.ipynb",
      "provenance": [],
      "collapsed_sections": []
    }
  },
  "cells": [
    {
      "cell_type": "markdown",
      "metadata": {},
      "source": [
        "# Red-Black trees\n",
        "> Love-hate affair with a data structure\n",
        "\n",
        "- toc: false\n",
        "- branch: master\n",
        "- badges: true\n",
        "- comments: true\n",
        "- author: Jesse van Elteren\n",
        "- image: images/redblacktree.png\n",
        "- categories: []"
      ]
    },
    {
      "cell_type": "markdown",
      "metadata": {},
      "source": [
        "After playing around with red-black trees for some time, I’ve grown to really like them, but also hate them at the same time! Let me explain why. To understand what a red-black tree is, we’ll first have to touch upon the concept of a binary search tree. The binary search tree is a method of ordering items that can be compared to each other. The best know example is of course numbers (1 < 2), but letters (a < b) or words (short < longerword) can also be compared.\n",
        "\n",
        " \n",
        "\n",
        "A binary tree is very simple and I had fun making one with my six year old daughter. She came up with a list of numbers and together we added them to the tree. The root of the tree is the first item you add. After this, to add another item you simply check if the item is smaller or larger than the root. If it’s smaller it gets stored into the left branch, if it’s larger it goes to the right branch. An item can have only one branch on each side. Therefore the tree will have to get deeper when more items are added. As an example, a tree with 3 layers holds a maximum of 1+2+4 = 7 items.\n",
        "\n",
        " \n",
        "\n",
        "The advantage of binary search trees is that the order of items is preserved. For example, you can easily lookup the minimum (just always go left from the root). But also finding an item can be very quick, since ideally the amount of items is continuously divided by two (i.e. if you are interested in the left side of the tree, you no longer need to search the right side.\n",
        "\n",
        " \n",
        "\n",
        "But think about a scenario where you insert numbers 0-10 in order. The tree would only have right branches! This effectively means you are just storing a list. If you are storing a million items this way, you would have to search a million items before inserting the next number, while if the tree was balanced, it would take about 20 steps (1 million log base 2).\n",
        "\n",
        " \n",
        "\n",
        "This is where red-black trees come in. They are self-balancing to solve the above problem. In a red-black tree, items are colored in either … drumroll…. (you’ve guessed it) red or black. They have certain rules:\n",
        "\n",
        "* The root is always black\n",
        "* While searching the tree, you’ll never pass two consecutive red items\n",
        "* The amount of black items you pass while going to an end of the tree is the same for each leaf of the tree.\n",
        "\n",
        "To preserve these properties insertion and removal can require certain operations, such as recoloring certain items, or rotation of a part of the tree. And this is where my love and hate comes in. It’s awesome to see the different shapes the tree can take while balancing. Even the root of the tree can change in the process. A couple of examples:"
      ]
    },
    {
      "cell_type": "code",
      "metadata": {
        "id": "NKjsR2yBu-L-",
        "colab_type": "code",
        "colab": {
          "base_uri": "https://localhost:8080/",
          "height": 101
        },
        "outputId": "584a3219-7832-4281-9073-8e31afae73c5"
      },
      "source": [
        "# hide\n",
        "!apt install libgraphviz-dev -qq\n",
        "!pip install pygraphviz -q"
      ],
      "execution_count": null,
      "outputs": [
        {
          "output_type": "stream",
          "text": [
            "libgraphviz-dev is already the newest version (2.40.1-2).\n",
            "The following package was automatically installed and is no longer required:\n",
            "  libnvidia-common-440\n",
            "Use 'apt autoremove' to remove it.\n",
            "0 upgraded, 0 newly installed, 0 to remove and 39 not upgraded.\n"
          ],
          "name": "stdout"
        }
      ]
    },
    {
      "cell_type": "code",
      "metadata": {
        "id": "jfClCocvllMU",
        "colab_type": "code",
        "colab": {}
      },
      "source": [
        "# hide\n",
        "# maybe try skiplift\n",
        "from collections import deque\n",
        "import networkx as nx\n",
        "import matplotlib.pyplot as plt\n",
        "from networkx.drawing.nx_agraph import write_dot, graphviz_layout\n",
        "\n",
        "switch = {'left':'right','right':'left'}\n",
        "\n",
        "class BinaryTree():\n",
        "    def __init__(self, items=None, silent = False):\n",
        "        self.items = 0\n",
        "        self.root = None\n",
        "        self.nodes = []\n",
        "        self.silent = silent\n",
        "        if items:\n",
        "          for i in items: \n",
        "            self.ins(i) if isinstance(i,Node) else self.ins(Node(i, silent=self.silent))\n",
        "    \n",
        "    def change_silent(self):\n",
        "      self.silent = not self.silent\n",
        "      for n in self.nodes:\n",
        "        n.silent=not n.silent\n",
        "\n",
        "    def print(self, *args):\n",
        "      if not self.silent: print(*args) \n",
        "\n",
        "    def ins(self, node):\n",
        "        if not self.root:\n",
        "          self.root = node\n",
        "        else:\n",
        "          res = self.root.ins(node)\n",
        "          if res: self.root = res\n",
        "\n",
        "        self.nodes.append(node)\n",
        "        self.print('tree updated!', self, '\\n')\n",
        "    \n",
        "    def search(self,to_search):\n",
        "      cur = self.root\n",
        "      while cur:\n",
        "        if cur.value == to_search:\n",
        "          return cur\n",
        "        if to_search < cur.value:\n",
        "          cur = cur.left\n",
        "        else:\n",
        "          cur = cur.right\n",
        "      return None\n",
        "\n",
        "    def __iter__(self):\n",
        "      return iter(self.nodes)\n",
        "\n",
        "    def __len__(self):\n",
        "      return len(self.nodes)\n",
        "\n",
        "    def __repr__(self):\n",
        "        return f'Tree properties: num items = {len(self)}, root {self.root}'\n",
        "\n",
        "    def __hash__(self):\n",
        "        to_see = deque([self.root])\n",
        "        seen = ''\n",
        "        while to_see:\n",
        "            cur = to_see.popleft()\n",
        "            if cur.left: \n",
        "                to_see.append(cur.left)\n",
        "            if cur.right: \n",
        "                to_see.append(cur.right)\n",
        "            seen += str(cur)\n",
        "        return int(seen)\n",
        "\n",
        "    def find_leftmost(self,node):\n",
        "      while node.left:\n",
        "        node = node.left\n",
        "      return node\n",
        "\n",
        "    def traverse(self):\n",
        "      sorted_nodes = []\n",
        "      cur = self.find_leftmost(self.root)\n",
        "      sorted_nodes.append(cur)\n",
        "      while len(sorted_nodes) < len(self):\n",
        "        if cur.right and self.find_leftmost(cur.right) not in sorted_nodes:\n",
        "          cur = self.find_leftmost(cur.right)\n",
        "          sorted_nodes.append(cur)\n",
        "          continue\n",
        "        while cur.parent and cur.parent in sorted_nodes:\n",
        "          cur = cur.parent\n",
        "        if cur.parent:\n",
        "          cur = cur.parent\n",
        "          sorted_nodes.append(cur)\n",
        "      return sorted_nodes\n",
        "\n",
        "    def draw(self):\n",
        "        G = nx.DiGraph()\n",
        "        for node in self.nodes:\n",
        "          for direction in ['left', 'right']:\n",
        "            if getattr(node, direction):\n",
        "              G.add_edge(node, getattr(node, direction))\n",
        "        color_map = []\n",
        "        for node in G:\n",
        "            if node.red:\n",
        "                color_map.append('red')\n",
        "            else: \n",
        "                color_map.append('grey')\n",
        "        labels = {n:n.value for n in G.nodes()}\n",
        "        write_dot(G,'test.dot')\n",
        "        plt.figure(figsize=(12,3))\n",
        "        plt.title(f'{len(self.nodes)} items, {black_amound} steps from root to leaves')\n",
        "        pos = graphviz_layout(G, prog='dot')\n",
        "        black_amount = {count_black(node) for node in tree if not node.left or not node.left}\n",
        "        # print('number of items', len(self.nodes), '\\nblack steps from root to leaves', black_amount)\n",
        "        nx.draw(G, pos, node_color=color_map, labels = labels,with_labels=True)\n",
        "        plt.draw()\n",
        "\n",
        "class RBTree(BinaryTree):\n",
        "  def __init__(self, *args, **kwargs):\n",
        "    super().__init__(*args, **kwargs)\n",
        "  def ins(self,*args, **kwargs):\n",
        "    super().ins(*args, **kwargs)\n",
        "    if len(self) == 1:\n",
        "      self.root.red=False\n",
        "tree = RBTree(silent=True)\n",
        "class Treap(BinaryTree):\n",
        "  def __init__(self, *args, **kwargs):\n",
        "    super().__init__(*args, **kwargs)\n"
      ],
      "execution_count": 26,
      "outputs": []
    },
    {
      "cell_type": "code",
      "metadata": {
        "tags": [],
        "id": "I_NtwVLNllMk",
        "colab_type": "code",
        "colab": {}
      },
      "source": [
        "# hide\n",
        "class Node():\n",
        "  \n",
        "  \n",
        "    def __init__(self, value, parent = None, left = None, right = None, red = True, silent = False):\n",
        "        self.parent, self.left, self.right, self.value, self.red, self.silent = parent, left, right, value, red, silent\n",
        "\n",
        "    def print(self, *args):\n",
        "      if not self.silent: print(*args) \n",
        "\n",
        "    def set_child(self, direction, child):\n",
        "      setattr(self, direction, child)\n",
        "      if child:\n",
        "        child.parent = self\n",
        "\n",
        "    def switch(self):\n",
        "        self.red = not self.red\n",
        "\n",
        "    def get_sibling(self):\n",
        "      if self.get_dir_from_parent():\n",
        "        return getattr(self.parent, switch[self.get_dir_from_parent()])\n",
        "      else:\n",
        "        self.print(self, 'no parent!')\n",
        "\n",
        "    def get_uncle(self):\n",
        "        return self.parent.get_sibling()\n",
        "\n",
        "    def get_dir_from_parent(self):\n",
        "      if self.parent:\n",
        "        if self.parent.left == self:\n",
        "          return 'left'\n",
        "        else:\n",
        "          return 'right'\n",
        "      else:\n",
        "        self.print(self, 'no parent!')\n",
        "\n",
        "    def __eq__(self, other):\n",
        "        return True if other and self.value == other.value else False\n",
        "\n",
        "    def __gt__(self,other):\n",
        "        return self.value > other.value\n",
        "    \n",
        "    def __ge__(self,other):\n",
        "        return self.value >= other.value\n",
        "\n",
        "    def __str__(self):\n",
        "        # return str(id(self)) # for doubles in networkx\n",
        "        return str(self.value)\n",
        "\n",
        "    def __repr__(self):\n",
        "        return f'{self.value}'\n",
        "    def __hash__(self):\n",
        "        return id(self)\n",
        "\n",
        "    def ins(self, new):\n",
        "      self.print(self)\n",
        "      def ins_direction(dir):\n",
        "        self.print(dir)\n",
        "        if getattr(self,dir) == None:\n",
        "          self.set_child(dir,new)\n",
        "          return self.check(new, dir)\n",
        "        else:\n",
        "          return getattr(self, dir).ins(new)\n",
        "      if new < self:\n",
        "        return ins_direction('left')\n",
        "      else:\n",
        "        return ins_direction('right')\n",
        "\n",
        "    def check(self, child, direction):\n",
        "        self.print('checking', self, child, direction)\n",
        "        if not self.parent:\n",
        "          self.print('root has been checked, was red = ',self.red)\n",
        "          self.red = False\n",
        "          return self\n",
        "\n",
        "        if child.red and self.red: # otherwise there is no violation \n",
        "            parent = self\n",
        "            grandparent = self.parent\n",
        "            rootchange = None\n",
        "            if getattr(grandparent, direction) == self: \n",
        "                line = True\n",
        "                uncle = getattr(grandparent, switch[direction])\n",
        "            else:\n",
        "                line = False\n",
        "                uncle = getattr(grandparent, direction)\n",
        "            self.print(f'Violation! child {child}, parent{parent}, grandparent {grandparent}, uncle {uncle}')\n",
        "\n",
        "            # now we check if its case 1, 2 or 3\n",
        "            if uncle and uncle.red: # case 1, recolor\n",
        "                self.print('Violation type: recolor')\n",
        "                for entity in [uncle, parent, grandparent]:\n",
        "                    entity.switch()\n",
        "                if grandparent:\n",
        "                  self.print('extra check', grandparent)\n",
        "                  return grandparent.check(parent, parent.get_dir_from_parent())\n",
        "            \n",
        "            elif not uncle or not uncle.red: \n",
        "                if line: # case 2, line\n",
        "                    self.print('Violation type: line', direction)\n",
        "                    # right rotation on G\n",
        "                    rootchange = grandparent.rotate(switch[direction])\n",
        "                    if grandparent:\n",
        "                      grandparent.switch()\n",
        "                    parent.switch()\n",
        "                else: # case 3, triangle, left rotation on Parent\n",
        "                    self.print('Violation type: triangle', direction)\n",
        "                    self.rotate(switch[direction])\n",
        "                    return child.check(parent, switch[direction])\n",
        "            self.print('return' ,rootchange)        \n",
        "            return rootchange\n",
        "        elif self.parent: \n",
        "          self.print('do another check self', self, 'parent' ,self.parent)\n",
        "          return self.parent.check(self, self.get_dir_from_parent())\n",
        "\n",
        "    def rotate(self, direction):\n",
        "        parent = self\n",
        "        grandparent = self.parent\n",
        "        child = getattr(self,switch[direction])\n",
        "        self.print('ROTATE',direction, 'gp',grandparent, 'p',parent, 'c',child)\n",
        "        # if hasattr(child,direction):\n",
        "        parent.set_child(switch[direction],getattr(child,direction))\n",
        "        # else:\n",
        "        # parent.set_child(switch[direction],None)\n",
        "\n",
        "        if grandparent:\n",
        "          grandparent.set_child(parent.get_dir_from_parent(), child)\n",
        "        else:\n",
        "          child.parent = None\n",
        "          self.print(\"ROOTCHANGE\")\n",
        "          child.set_child(direction, parent)\n",
        "          return child\n",
        "        child.set_child(direction, parent)\n",
        "        return\n",
        "    def get_children(self):\n",
        "      return [n for n in [self.left,self.right] if n]\n",
        "    "
      ],
      "execution_count": 22,
      "outputs": []
    },
    {
      "cell_type": "code",
      "metadata": {
        "id": "BjE29pC3eiyj",
        "colab_type": "code",
        "colab": {}
      },
      "source": [
        "# hide\n",
        "def count_black(node):\n",
        "  cur = node\n",
        "  count = 1\n",
        "  while cur.parent:\n",
        "    if not cur.red: count+=1\n",
        "    cur = cur.parent\n",
        "  return count\n",
        "  \n",
        "def is_valid_tree(tree):\n",
        "  if len(tree) == 0:\n",
        "    assert tree.root == None\n",
        "  else:\n",
        "    assert tree.root.parent is None\n",
        "    assert tree.root.red == False\n",
        "    for node in tree:\n",
        "      if node.parent:\n",
        "        assert node == getattr(node.parent, node.get_dir_from_parent())\n",
        "      if node.red: # all red nodes dont have red children\n",
        "        assert node.left == None or node.left.red == False\n",
        "        assert node.right == None or node.right.red == False\n",
        "      if node.left:\n",
        "        assert node.left <= node\n",
        "      if node.right:\n",
        "        assert node.right >= node\n",
        "    # number of black steps\n",
        "    # all ends of the tree traverse the same amount of black nodes before ending at root\n",
        "    black_amount = {count_black(node) for node in tree if not node.left or not node.left} \n",
        "    assert len(black_amount) == 1\n",
        "\n",
        "is_valid_tree(RBTree())\n",
        "is_valid_tree(RBTree((8, 5, 12, 19, 13, 9, 23, 10),silent=True))\n",
        "is_valid_tree(RBTree(list(range(30)),silent=True))\n",
        "is_valid_tree(RBTree(reversed(list(range(200))),silent=True))\n",
        "out = [Node(i) for i in [5, 8, 9, 10, 12, 13, 19, 23]]\n",
        "assert RBTree((8,5, 12, 19, 9, 23, 10,13),silent=True).traverse() == out"
      ],
      "execution_count": 23,
      "outputs": []
    },
    {
      "cell_type": "code",
      "metadata": {
        "id": "LcJoWTAoT85s",
        "colab_type": "code",
        "colab": {}
      },
      "source": [
        "# hide\n",
        "def remove(self, value):\n",
        "  node = self.search(value)\n",
        "  if node.right:\n",
        "    to_delete = self.find_leftmost(node.right)\n",
        "  else: # node.left or node has no children\n",
        "    to_delete = node\n",
        "  self.print(f'original {node.value}, to delete {to_delete.value}')\n",
        "\n",
        "\n",
        "  if not to_delete.red: # only black cases are difficult and need specific action\n",
        "    # determine child\n",
        "    to_delete_child = to_delete.get_children()[0] if to_delete.get_children() else None \n",
        "    self.print('to_delete is black',to_delete, 'child value', to_delete_child)\n",
        "    if not to_delete_child:\n",
        "      self.print('child is black (None), doubleblack time',to_delete)\n",
        "      self.fix_doubleblack(to_delete)\n",
        "    else:\n",
        "      if to_delete_child.red:\n",
        "        self.print('child is red')\n",
        "        to_delete.parent.set_child(to_delete.get_dir_from_parent(),to_delete_child)\n",
        "        self.print(f'just set{to_delete.parent} to {to_delete_child.parent} {to_delete_child.parent.left} {to_delete_child.parent.right}')\n",
        "        to_delete_child.red = False\n",
        "      else:\n",
        "        self.print('doubleblack time',to_delete)\n",
        "        # to_delete.parent.set_child('left',to_delete_child)\n",
        "        self.fix_doubleblack(to_delete_child)\n",
        "        \n",
        "  self.nodes.remove(to_delete)\n",
        "  node.value = to_delete.value # for some reason this needs to happen after self is removed from nodes\n",
        "  del to_delete\n",
        "  self.print('final node value', node.value)\n",
        "  is_valid_tree(self)\n",
        "  return\n",
        "\n",
        "def fix_doubleblack(self,to_delete):\n",
        "  self.print('doubleblack boys',to_delete.value)\n",
        "  sib_red = True if to_delete.get_sibling() and to_delete.get_sibling().red else False \n",
        "  par_red = True if to_delete.parent and to_delete.parent.red else False\n",
        "  dir_from_parent = to_delete.get_dir_from_parent()\n",
        "  self.print('samedirection', dir_from_parent)\n",
        "\n",
        "  sib_same_red = True if to_delete.get_sibling() and to_delete.get_sibling().left and to_delete.get_sibling().left.red else False\n",
        "  sib_other_red = True if to_delete.get_sibling() and to_delete.get_sibling().right and to_delete.get_sibling().right.red else False\n",
        "  if dir_from_parent == 'right':\n",
        "    sib_same_red, sib_other_red = sib_other_red, sib_same_red  \n",
        "\n",
        "  #case 1\n",
        "  if not to_delete.parent:\n",
        "    self.print('case1')\n",
        "    return # terminal case\n",
        "\n",
        "  #case 2\n",
        "  elif sib_red:\n",
        "    self.print('case2')\n",
        "    to_delete.parent.red = True\n",
        "    to_delete.get_sibling().red = False\n",
        "    root = to_delete.parent.rotate(dir_from_parent)\n",
        "    if root: self.root = root\n",
        "    return self.fix_doubleblack(to_delete)\n",
        "\n",
        "  #case 3\n",
        "  elif not par_red and not sib_red and not sib_same_red and not sib_other_red:\n",
        "    self.print('case3')\n",
        "    to_delete.get_sibling().red = True\n",
        "    return self.fix_doubleblack(to_delete.parent)\n",
        "  \n",
        "  #case 4\n",
        "  elif par_red and not sib_red and not sib_same_red and not sib_other_red:\n",
        "    self.print('case4')\n",
        "    to_delete.parent.red = False\n",
        "    to_delete.get_sibling().red = True\n",
        "    return # terminal case\n",
        "\n",
        "  #case 5\n",
        "  elif not sib_red and sib_same_red and not sib_other_red:\n",
        "    self.print('case5')\n",
        "    # exchange colors of S and new P\n",
        "    to_delete.get_sibling().red = True\n",
        "    getattr(to_delete.get_sibling(), dir_from_parent).red = False\n",
        "    to_delete.get_sibling().rotate(switch[dir_from_parent])\n",
        "    return self.fix_doubleblack(to_delete) # should result in case 6\n",
        "\n",
        "  #case 6\n",
        "  elif not sib_red and sib_other_red:\n",
        "    self.print('case6')\n",
        "    # exchange colors of P and S, and make Srchild black\n",
        "    to_delete.parent.red, to_delete.get_sibling().red = to_delete.get_sibling().red, to_delete.parent.red\n",
        "    getattr(to_delete.get_sibling(), switch[dir_from_parent]).red = False\n",
        "    # rotate left at P\n",
        "    to_delete.parent.rotate(dir_from_parent)\n",
        "    return # terminal case\n",
        "\n",
        "  else:\n",
        "    self.print('something wrong, no case?', to_delete, to_delete.parent, to_delete.right, to_delete.right)\n",
        "  return\n",
        "\n",
        "RBTree.remove = remove\n",
        "RBTree.fix_doubleblack = fix_doubleblack\n",
        "\n",
        "for i in list(range(0,30,2))+[17,25,27]:\n",
        "  tree = RBTree(list(range(0,30,2))+[17,25,27],silent=True)\n",
        "  tree.remove(i)\n",
        "  is_valid_tree(tree)"
      ],
      "execution_count": 24,
      "outputs": []
    },
    {
      "cell_type": "markdown",
      "metadata": {},
      "source": [
        "On the other hand, it’s been an absolute pain to code the algorithms, with some difficult debugging to take care of all the edge cases to make sure the program runs correctly. I’ve gained new appreciation for programming concepts such as unit testing, refractoring, and plain old careful reading of the specification. Seeing it work has made this project worth it!\n",
        "\n",
        " \n",
        "\n",
        "After some [reading](https://web.archive.org/web/20140327140251/http://www.cepis.org/upgrade/files/full-2004-V.pdf), I’ve also come across the treap (tree-heap), which is basically using random numbers to make sure the tree looks like all the items are inserted in random order. Which will make the tree balanced with a high probablility. They outperform red-black trees, but due to their randomized nature are less consistent."
      ]
    },
    {
      "cell_type": "code",
      "metadata": {
        "id": "LxpIHaUnYSxm",
        "colab_type": "code",
        "colab": {
          "base_uri": "https://localhost:8080/",
          "height": 244
        },
        "outputId": "03405927-82aa-45b8-b1cf-6b1b3ee8a8ef"
      },
      "source": [
        "# hide\n",
        "RBTree(list(range(0,30,2))+[17,25,27],silent=True).draw()"
      ],
      "execution_count": null,
      "outputs": [
        {
          "output_type": "stream",
          "text": [
            "number of items 18 \n",
            "black steps from root to leaves {3}\n"
          ],
          "name": "stdout"
        },
        {
          "output_type": "display_data",
          "data": {
            "image/png": "[encoded data removed]",
            "text/plain": [
              "<Figure size 864x216 with 1 Axes>"
            ]
          },
          "metadata": {
            "tags": []
          }
        }
      ]
    },
    {
      "cell_type": "code",
      "metadata": {
        "id": "4myp9kgF0ACC",
        "colab_type": "code",
        "colab": {
          "base_uri": "https://localhost:8080/",
          "height": 244
        },
        "outputId": "bc672b5b-089b-48aa-c6f9-1db1f9060947"
      },
      "source": [
        "# hide\n",
        "RBTree(sorted(list(range(0,30,2))+[17,25,27]),silent=True).draw()"
      ],
      "execution_count": null,
      "outputs": [
        {
          "output_type": "stream",
          "text": [
            "number of items 18 \n",
            "black steps from root to leaves {3}\n"
          ],
          "name": "stdout"
        },
        {
          "output_type": "display_data",
          "data": {
            "image/png": "[encoded data removed]",
            "text/plain": [
              "<Figure size 864x216 with 1 Axes>"
            ]
          },
          "metadata": {
            "tags": []
          }
        }
      ]
    },
    {
      "cell_type": "code",
      "metadata": {
        "id": "0lqKVyJK0HaY",
        "colab_type": "code",
        "colab": {
          "base_uri": "https://localhost:8080/",
          "height": 227
        },
        "outputId": "ed197b25-7727-48f6-feb5-1181c27cca42"
      },
      "source": [
        "# hide\n",
        "RBTree((list(reversed(range(0,30,2)))+[17,25,27]),silent=True).draw()"
      ],
      "execution_count": null,
      "outputs": [
        {
          "output_type": "stream",
          "text": [
            "number of items 18 black steps from root to leaves {3}\n"
          ],
          "name": "stdout"
        },
        {
          "output_type": "display_data",
          "data": {
            "image/png": "[encoded data removed]",
            "text/plain": [
              "<Figure size 864x216 with 1 Axes>"
            ]
          },
          "metadata": {
            "tags": []
          }
        }
      ]
    },
    {
      "cell_type": "code",
      "execution_count": 1,
      "metadata": {},
      "outputs": [
        {
          "output_type": "error",
          "ename": "NameError",
          "evalue": "name 'Node' is not defined",
          "traceback": [
            "\u001b[1;31m---------------------------------------------------------------------------\u001b[0m",
            "\u001b[1;31mNameError\u001b[0m                                 Traceback (most recent call last)",
            "\u001b[1;32m<ipython-input-1-68e2985a4ddc>\u001b[0m in \u001b[0;36m<module>\u001b[1;34m\u001b[0m\n\u001b[0;32m      1\u001b[0m \u001b[1;31m#hide\u001b[0m\u001b[1;33m\u001b[0m\u001b[1;33m\u001b[0m\u001b[1;33m\u001b[0m\u001b[0m\n\u001b[1;32m----> 2\u001b[1;33m \u001b[1;32mclass\u001b[0m \u001b[0mTreapNode\u001b[0m\u001b[1;33m(\u001b[0m\u001b[0mNode\u001b[0m\u001b[1;33m)\u001b[0m\u001b[1;33m:\u001b[0m\u001b[1;33m\u001b[0m\u001b[1;33m\u001b[0m\u001b[0m\n\u001b[0m\u001b[0;32m      3\u001b[0m   \u001b[1;32mdef\u001b[0m \u001b[0m__init__\u001b[0m\u001b[1;33m(\u001b[0m\u001b[0mself\u001b[0m\u001b[1;33m,\u001b[0m \u001b[1;33m*\u001b[0m\u001b[0margs\u001b[0m\u001b[1;33m,\u001b[0m \u001b[1;33m**\u001b[0m\u001b[0mkwargs\u001b[0m\u001b[1;33m)\u001b[0m\u001b[1;33m:\u001b[0m\u001b[1;33m\u001b[0m\u001b[1;33m\u001b[0m\u001b[0m\n\u001b[0;32m      4\u001b[0m     \u001b[0msuper\u001b[0m\u001b[1;33m(\u001b[0m\u001b[1;33m)\u001b[0m\u001b[1;33m.\u001b[0m\u001b[0m__init__\u001b[0m\u001b[1;33m(\u001b[0m\u001b[1;33m*\u001b[0m\u001b[0margs\u001b[0m\u001b[1;33m,\u001b[0m \u001b[1;33m**\u001b[0m\u001b[0mkwargs\u001b[0m\u001b[1;33m)\u001b[0m\u001b[1;33m\u001b[0m\u001b[1;33m\u001b[0m\u001b[0m\n\u001b[0;32m      5\u001b[0m     \u001b[0mself\u001b[0m\u001b[1;33m.\u001b[0m\u001b[0mprio\u001b[0m \u001b[1;33m=\u001b[0m \u001b[0mrandom\u001b[0m\u001b[1;33m.\u001b[0m\u001b[0mrandom\u001b[0m\u001b[1;33m(\u001b[0m\u001b[1;33m)\u001b[0m\u001b[1;33m\u001b[0m\u001b[1;33m\u001b[0m\u001b[0m\n",
            "\u001b[1;31mNameError\u001b[0m: name 'Node' is not defined"
          ]
        }
      ],
      "source": [
        "#hide\n",
        "class TreapNode(Node):\n",
        "  def __init__(self, *args, **kwargs):\n",
        "    super().__init__(*args, **kwargs)\n",
        "    self.prio = random.random()\n",
        "\n",
        "  def check(self, child, direction):\n",
        "    self.print('checking', self, child, direction)\n",
        "    if child.prio > self.prio:\n",
        "      print('priority of child higher than parent')\n",
        "      self.rotate(switch[direction]) # or switch[direction]\n",
        "      if child.parent is None:\n",
        "        return child\n",
        "      return child.parent.check(child, child.get_dir_from_parent())\n",
        "\n",
        "tree = RBTree(silent=True)\n",
        "for i in range(20):\n",
        "  tree.ins(TreapNode(i, silent=True))\n",
        "tree.draw(\n",
        ")"
      ]
    },
    {
      "cell_type": "markdown",
      "metadata": {
        "colab": {
          "base_uri": "https://localhost:8080/",
          "height": 34
        },
        "colab_type": "code",
        "id": "uv4bj7Nb0M-0",
        "outputId": "dee72648-f373-4612-a9ad-78b56b0ecfca"
      },
      "source": [
        "![](flight/example.png)"
      ]
    },
    {
      "cell_type": "markdown",
      "metadata": {
        "colab": {},
        "colab_type": "code",
        "id": "ct9SNIdm0SqT"
      },
      "source": [
        "> Tip: [This page](https://people.ksp.sk/~kuko/gnarley-trees/Redblack.html) has a nice animation how red-black trees are build. Additionally, Wikipedia has more information about  [binary search trees](https://en.wikipedia.org/wiki/Binary_search_tree) and [red black trees](https://en.wikipedia.org/wiki/Red%E2%80%93black_tree)\n"
      ]
    },
    {
      "cell_type": "markdown",
      "metadata": {},
      "source": []
    }
  ]
}